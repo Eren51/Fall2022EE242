{
 "cells": [
  {
   "attachments": {},
   "cell_type": "markdown",
   "metadata": {},
   "source": [
    "You are to create system on proteus such that:\n",
    "1) İt should have two modes a) casual b) diagnostic\n",
    "2)  in the casual mode it should light each led for 2 seconds in order\n",
    "3) in the diagnostic mode it should watch for button press (use interrupt) . When the button is up it should show the time between the presses of button and howlong the press lasted on a HD44780 compatible LCD  (like LM044L in proteus professional).\n",
    "Deliverables :\n",
    "upload all your work both to your github accaount and yulearn: including your stm32 project and proteus project and a brief read me.\n",
    "Your due date is the final date where you have to show up and talk about your project in order to get credit. "
   ]
  },
  {
   "cell_type": "markdown",
   "metadata": {},
   "source": []
  },
  {
   "cell_type": "code",
   "execution_count": null,
   "metadata": {},
   "outputs": [],
   "source": []
  }
 ],
 "metadata": {
  "kernelspec": {
   "display_name": "Python 3",
   "language": "python",
   "name": "python3"
  },
  "language_info": {
   "name": "python",
   "version": "3.10.9 (tags/v3.10.9:1dd9be6, Dec  6 2022, 20:01:21) [MSC v.1934 64 bit (AMD64)]"
  },
  "orig_nbformat": 4,
  "vscode": {
   "interpreter": {
    "hash": "e1c15735702c9405a45afa84cc6b61f146ad052feff4b6e0c617487cbe4d19e7"
   }
  }
 },
 "nbformat": 4,
 "nbformat_minor": 2
}
