{
 "cells": [
  {
   "cell_type": "markdown",
   "metadata": {},
   "source": []
  },
  {
   "cell_type": "markdown",
   "metadata": {},
   "source": [
    "## 1) Velostat\n",
    " Velostat is metarial which radically changes its Volume conductivity under pressure. It is advised that you do a literature survey about Valostat and its uses.\n",
    "\n",
    "\n",
    "In this project you have two tasks (see the picture below): a ) use machine learning to detect which quadrant is pressed. b) how small can the velostat be such that you can still difrentiate between the quarters.\n",
    "\n",
    "Notes: i) For the first part of the project you should be able to upload the relevant data to edge impulse and label the data.\n",
    "ii) You might increase the number of inputs and/or outputs.\n",
    "\n"
   ]
  },
  {
   "cell_type": "markdown",
   "metadata": {},
   "source": [
    "\n",
    "![Alt text](../../../../../../C:/Users/gsahinpi/Documents/github/Fall2022EE242/velostat.png)"
   ]
  },
  {
   "cell_type": "markdown",
   "metadata": {},
   "source": [
    "## 2)  Velostat"
   ]
  },
  {
   "cell_type": "markdown",
   "metadata": {},
   "source": [
    "![Alt text](../../../../../../C:/Users/gsahinpi/Documents/github/Fall2022EE242/neutralpelvisposition.png)\n",
    "\n",
    "\n",
    "See: https://backintelligence.com/proper-sitting-posture-at-a-desk/ for the picture reference"
   ]
  },
  {
   "cell_type": "markdown",
   "metadata": {},
   "source": [
    "You are to design a system which accepts the right sitting posture as the baseline and treats any other posture as anamoly. You should also take measurements from the pelvic position."
   ]
  },
  {
   "cell_type": "markdown",
   "metadata": {},
   "source": [
    "## 3)  Velostat\n",
    "\n",
    "wDesign a system which detects how you breathe and inferes your mood: You can breath from your diaphragm or your chest and you have three stages of breath , inhale, wait, exhale. The moods are up to you choose but happy, sad, energetic, tired, concentrated etc. are the ones that comes in to the mind as a first aproximation."
   ]
  },
  {
   "cell_type": "markdown",
   "metadata": {},
   "source": [
    "## 4) Worst ir camera and display\n",
    "You are going to use 9 leds as display and 9 infrared reciver diodes both arranged in 3x3 grid. (for a version without mc and ir see: https://www.youtube.com/watch?v=fo62941392M) . You are going to implement a machine learning project that identifies some objects . You might  try to build a kind of camera obscura .\n"
   ]
  },
  {
   "cell_type": "markdown",
   "metadata": {},
   "source": [
    "## 5) You and the Air\n",
    "Air quality is known to effect human behaviour and cognitive state. You are to design a system which measures the air quality (as much as possible)  and label data  according to either a)your mood : anxious, annoyed, stresses and or positives etc... b) cognitive state , concentrated, distracted etc.  Finally you will check if your systems detect your state of being.\n",
    "\n"
   ]
  },
  {
   "cell_type": "markdown",
   "metadata": {},
   "source": [
    "## 6) Accelerometer as microphone\n",
    "Pick any of the sound processing tutorials at the edgeimpulse site but implement it using accelerometer instead of a microphone.\n",
    "\n",
    "For inspiration see: https://www.reddit.com/r/electronics/comments/w8oca/using_an_accelerometer_as_a_microphone/\n",
    "do not convert to 8 bits for this project. But for fun why not?"
   ]
  },
  {
   "cell_type": "markdown",
   "metadata": {},
   "source": [
    "## 7) Audio processing using pdm\n",
    "\n",
    "The usual work flow audio  processing with mems microphones is as follows: i) store the data in the pdm format ii) convert pdm to pcm iii) save the pcm file as wav. file\n",
    "This conversations should not be necassary. Pick any of the sound processing tutorials at the edgeimpulse site but implement them using only pdm data."
   ]
  },
  {
   "cell_type": "markdown",
   "metadata": {},
   "source": [
    "## 8) Skin Temperature\n",
    "Design a sytem that tells if you are awake or not by looking at your skin temperature data acquired from three different body regions (for example neck, feet, chest)."
   ]
  },
  {
   "cell_type": "markdown",
   "metadata": {},
   "source": [
    "## 9) Hack webclient\n",
    "hack https://github.com/edgeimpulse/mobile-client such that you can relay any output of the machine learning model to serial port on your mobilephone. You should be able to control your embedded device with the output acquired from your mobile phone. "
   ]
  },
  {
   "cell_type": "markdown",
   "metadata": {},
   "source": []
  }
 ],
 "metadata": {
  "kernelspec": {
   "display_name": "Python 3.10.8 64-bit (microsoft store)",
   "language": "python",
   "name": "python3"
  },
  "language_info": {
   "codemirror_mode": {
    "name": "ipython",
    "version": 3
   },
   "file_extension": ".py",
   "mimetype": "text/x-python",
   "name": "python",
   "nbconvert_exporter": "python",
   "pygments_lexer": "ipython3",
   "version": "3.10.8"
  },
  "orig_nbformat": 4,
  "vscode": {
   "interpreter": {
    "hash": "e1c15735702c9405a45afa84cc6b61f146ad052feff4b6e0c617487cbe4d19e7"
   }
  }
 },
 "nbformat": 4,
 "nbformat_minor": 2
}
