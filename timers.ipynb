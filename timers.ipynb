{
 "cells": [
  {
   "cell_type": "markdown",
   "metadata": {},
   "source": [
    "Stm32f4 two groups of timers: Basic Timers and general Purpose timers\n"
   ]
  },
  {
   "cell_type": "markdown",
   "metadata": {},
   "source": [
    "#### Basic Timers\n",
    " timers from this category are the simplest form of timers in STM32 MCUs. They are 16-bit timers used as time base generator, and they do not have output/input pins. Basic timers can be also used as “masters” for other timers. \n",
    " "
   ]
  },
  {
   "cell_type": "markdown",
   "metadata": {},
   "source": [
    "#### General Purpose Timers\n",
    "\n",
    " they are 16/32-bit timers (depending on the STM32-series) providing the classical features that a timer of a modern embedded microcontroller is expected to implement\n",
    " . They are used in any application for \n",
    "    \n",
    "    i)  a general purpose timer can be used as time base generator, like a basic timer.\n",
    "    \n",
    "    ii) output compare : To control an output waveform, or to indicate when a period of time has elapsed(timing and delay generation),toggle a pin when a timer reaches a certain value \n",
    " \n",
    "   \n",
    "    iii) input capture: to measure the frequency of an external event\n",
    "      (for external signal frequency measurement), sensor interface (encoder, hall sensor), etc. Obviously, measure the number of counts of a timer between events on a pin\n",
    "    iv)  One-Pulse Mode:  is a particular case of the input capture mode and the output compare mode. It allows the counter to be started in response to a stimulus and to generate a pulse with a programmable length after a programmable delay\n",
    "    v) Pulse width modulation (PWM): toggle a pin when a timer reaches a certain value and on rollover. By adjusting the on versus off time (duty cycle), you can effectively control the amount of electrical power going to another device.\n",
    "\n",
    "    \n"
   ]
  },
  {
   "cell_type": "markdown",
   "metadata": {},
   "source": [
    "![Alt text](../../../../../../C:/Users/gsahinpi/Documents/github/Fall2022EE242/stm32f4block.png)"
   ]
  },
  {
   "cell_type": "markdown",
   "metadata": {},
   "source": [
    "![Alt text](../../../../../../C:/Users/gsahinpi/Documents/github/Fall2022EE242/timetable1.png)"
   ]
  },
  {
   "cell_type": "markdown",
   "metadata": {},
   "source": [
    "![Alt text](../../../../../../C:/Users/gsahinpi/Documents/github/Fall2022EE242/timetable2.png)"
   ]
  },
  {
   "cell_type": "markdown",
   "metadata": {},
   "source": [
    "## Interrupt requests\n",
    "Depending on the timer type, a timer can generate interrupts or DMA requests when the following events occur:\n",
    "\n",
    " • Update events – Counter overflow/underflow – Counter initialized – Others\n",
    " \n",
    " • Trigger – Counter start/stop – Counter Initialize – Others \n",
    " \n",
    " • Input capture/Output compare\n"
   ]
  },
  {
   "cell_type": "markdown",
   "metadata": {},
   "source": []
  }
 ],
 "metadata": {
  "kernelspec": {
   "display_name": "Python 3.10.8 64-bit (microsoft store)",
   "language": "python",
   "name": "python3"
  },
  "language_info": {
   "codemirror_mode": {
    "name": "ipython",
    "version": 3
   },
   "file_extension": ".py",
   "mimetype": "text/x-python",
   "name": "python",
   "nbconvert_exporter": "python",
   "pygments_lexer": "ipython3",
   "version": "3.10.8"
  },
  "orig_nbformat": 4,
  "vscode": {
   "interpreter": {
    "hash": "e1c15735702c9405a45afa84cc6b61f146ad052feff4b6e0c617487cbe4d19e7"
   }
  }
 },
 "nbformat": 4,
 "nbformat_minor": 2
}
